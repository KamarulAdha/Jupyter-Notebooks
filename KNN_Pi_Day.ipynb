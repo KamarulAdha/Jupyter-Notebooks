{
  "nbformat": 4,
  "nbformat_minor": 0,
  "metadata": {
    "colab": {
      "name": "KNN - Pi Day.ipynb",
      "provenance": [],
      "collapsed_sections": [],
      "authorship_tag": "ABX9TyOFZHrxXVmklb9+grM/iyxl",
      "include_colab_link": true
    },
    "kernelspec": {
      "name": "python3",
      "display_name": "Python 3"
    },
    "language_info": {
      "name": "python"
    }
  },
  "cells": [
    {
      "cell_type": "markdown",
      "metadata": {
        "id": "view-in-github",
        "colab_type": "text"
      },
      "source": [
        "<a href=\"https://colab.research.google.com/github/KamarulAdha/Jupyter-Notebooks/blob/main/KNN_Pi_Day.ipynb\" target=\"_parent\"><img src=\"https://colab.research.google.com/assets/colab-badge.svg\" alt=\"Open In Colab\"/></a>"
      ]
    },
    {
      "cell_type": "markdown",
      "metadata": {
        "id": "M12-FyHfs-ww"
      },
      "source": [
        "\n",
        "\n",
        "---\n",
        "\n",
        "\n",
        "# **Predicting the Price of AirBnB**\n",
        "\n",
        "\n",
        "---\n",
        "\n"
      ]
    },
    {
      "cell_type": "markdown",
      "metadata": {
        "id": "MdCvzA2aTwDA"
      },
      "source": [
        "\n",
        "\n",
        "---\n",
        "\n",
        "\n",
        "# Import The Modules\n",
        "\n",
        "\n",
        "---\n",
        "\n"
      ]
    },
    {
      "cell_type": "code",
      "metadata": {
        "id": "vezb1IWS1DAd"
      },
      "source": [
        "\"\"\" Import Modules \"\"\"\n",
        "import numpy as np\n",
        "import pandas as pd\n",
        "import warnings\n",
        "\n",
        "pd.set_option(\"display.expand_frame_repr\", False)\n",
        "warnings.filterwarnings(\"ignore\")"
      ],
      "execution_count": null,
      "outputs": []
    },
    {
      "cell_type": "markdown",
      "metadata": {
        "id": "wU9RMHDWT06A"
      },
      "source": [
        "\n",
        "\n",
        "---\n",
        "\n",
        "\n",
        "# Import The Data\n",
        "\n",
        "\n",
        "---\n",
        "\n"
      ]
    },
    {
      "cell_type": "code",
      "metadata": {
        "colab": {
          "resources": {
            "http://localhost:8080/nbextensions/google.colab/files.js": {
              "data": "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",
              "ok": true,
              "headers": [
                [
                  "content-type",
                  "application/javascript"
                ]
              ],
              "status": 200,
              "status_text": ""
            }
          },
          "base_uri": "https://localhost:8080/",
          "height": 73
        },
        "id": "e2KB5zxOUhep",
        "outputId": "c7387ee5-0191-4215-9a9a-c9e4e5add7e1"
      },
      "source": [
        "\"\"\" Import dataset from local drive \"\"\"\n",
        "from google.colab import files\n",
        "uploaded = files.upload()"
      ],
      "execution_count": null,
      "outputs": [
        {
          "output_type": "display_data",
          "data": {
            "text/html": [
              "\n",
              "     <input type=\"file\" id=\"files-3dc25cb7-780a-44bc-a429-42693a47da85\" name=\"files[]\" multiple disabled\n",
              "        style=\"border:none\" />\n",
              "     <output id=\"result-3dc25cb7-780a-44bc-a429-42693a47da85\">\n",
              "      Upload widget is only available when the cell has been executed in the\n",
              "      current browser session. Please rerun this cell to enable.\n",
              "      </output>\n",
              "      <script src=\"/nbextensions/google.colab/files.js\"></script> "
            ],
            "text/plain": [
              "<IPython.core.display.HTML object>"
            ]
          },
          "metadata": {
            "tags": []
          }
        },
        {
          "output_type": "stream",
          "text": [
            "Saving listings.csv to listings.csv\n"
          ],
          "name": "stdout"
        }
      ]
    },
    {
      "cell_type": "code",
      "metadata": {
        "id": "mpJ2qK67Vb09"
      },
      "source": [
        "import io\n",
        "\n",
        "dc_listings = pd.read_csv(io.BytesIO(uploaded[\"listings.csv\"]))"
      ],
      "execution_count": null,
      "outputs": []
    },
    {
      "cell_type": "markdown",
      "metadata": {
        "id": "HASx2C74ULpC"
      },
      "source": [
        "\n",
        "\n",
        "---\n",
        "\n",
        "\n",
        "# Data Preprocessing (Selecting & Cleaning)\n",
        "\n",
        "\n",
        "---\n",
        "\n"
      ]
    },
    {
      "cell_type": "code",
      "metadata": {
        "id": "PnSjCdN5W_jC"
      },
      "source": [
        "\"\"\" Select Important Features \"\"\"\n",
        "dc_listings.columns\n",
        "dc_listings = dc_listings[['accommodates', 'bedrooms', 'bathrooms','number_of_reviews','price']]"
      ],
      "execution_count": null,
      "outputs": []
    },
    {
      "cell_type": "code",
      "metadata": {
        "id": "d-vwzFeUXVq-"
      },
      "source": [
        "\"\"\" Remove Special Characters From Data \"\"\"\n",
        "dc_listings[\"price\"].head()\n",
        "\n",
        "dc_listings['price'] = dc_listings['price'].apply(lambda x:x.replace('$',''))\n",
        "dc_listings['price'] = dc_listings['price'].apply(lambda x:x.replace(',',''))\n",
        "dc_listings['price'] = dc_listings['price'].astype('float')"
      ],
      "execution_count": null,
      "outputs": []
    },
    {
      "cell_type": "code",
      "metadata": {
        "id": "OnETAKiuXl4j",
        "colab": {
          "base_uri": "https://localhost:8080/"
        },
        "outputId": "9a280633-170f-4376-af4c-9087da4027a3"
      },
      "source": [
        "\"\"\" Delete Empty Data \"\"\"\n",
        "dc_listings = dc_listings.dropna(axis=0)\n",
        "dc_listings.info()"
      ],
      "execution_count": null,
      "outputs": [
        {
          "output_type": "stream",
          "text": [
            "<class 'pandas.core.frame.DataFrame'>\n",
            "Int64Index: 3675 entries, 0 to 3722\n",
            "Data columns (total 5 columns):\n",
            " #   Column             Non-Null Count  Dtype  \n",
            "---  ------             --------------  -----  \n",
            " 0   accommodates       3675 non-null   int64  \n",
            " 1   bedrooms           3675 non-null   float64\n",
            " 2   bathrooms          3675 non-null   float64\n",
            " 3   number_of_reviews  3675 non-null   int64  \n",
            " 4   price              3675 non-null   float64\n",
            "dtypes: float64(3), int64(2)\n",
            "memory usage: 172.3 KB\n"
          ],
          "name": "stdout"
        }
      ]
    },
    {
      "cell_type": "markdown",
      "metadata": {
        "id": "8iXMykY-UsOV"
      },
      "source": [
        "\n",
        "\n",
        "---\n",
        "\n",
        "\n",
        "# Train The Data\n",
        "\n",
        "\n",
        "---\n",
        "\n"
      ]
    },
    {
      "cell_type": "code",
      "metadata": {
        "id": "puQvxjLlXy3J"
      },
      "source": [
        "\"\"\" Take 70% for Training, 30% for Testing \"\"\"\n",
        "train_rows  =  int(dc_listings.shape[0] * 0.7)\n",
        "train = dc_listings.iloc[0:train_rows]\n",
        "test = dc_listings.iloc[train_rows:]"
      ],
      "execution_count": null,
      "outputs": []
    },
    {
      "cell_type": "code",
      "metadata": {
        "colab": {
          "base_uri": "https://localhost:8080/"
        },
        "id": "GckqmDAJX10h",
        "outputId": "8bfb06d6-1aab-48b9-cf03-f9f74769095f"
      },
      "source": [
        "\"\"\" Remove Price from Feature \"\"\"\n",
        "features = list(train.columns)\n",
        "features.remove('price')\n",
        "print(features)"
      ],
      "execution_count": null,
      "outputs": [
        {
          "output_type": "stream",
          "text": [
            "['accommodates', 'bedrooms', 'bathrooms', 'number_of_reviews']\n"
          ],
          "name": "stdout"
        }
      ]
    },
    {
      "cell_type": "markdown",
      "metadata": {
        "id": "J7NUaZjv4XCG"
      },
      "source": [
        "# Euclidean Distance Formula\n",
        "![image.png](data:image/png;base64,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)"
      ]
    },
    {
      "cell_type": "markdown",
      "metadata": {
        "id": "cNi92A5uWG1K"
      },
      "source": [
        "\n",
        "\n",
        "---\n",
        "\n",
        "\n",
        "# Applying the Euclidean Distance Formula (K = 5)\n",
        "\n",
        "\n",
        "---\n",
        "\n"
      ]
    },
    {
      "cell_type": "code",
      "metadata": {
        "id": "7W9-LYMzX-D5"
      },
      "source": [
        "def predict_price(row,temp_df):\n",
        "\n",
        "    \"\"\" Distance between the unlabeled data and the labeled data \"\"\"\n",
        "    distances = temp_df[features] - row\n",
        "\n",
        "    \"\"\" Squaring the distance \"\"\"\n",
        "    squared = np.square(distances)\n",
        "\n",
        "    \"\"\" Sum up all the squared distance values \"\"\"\n",
        "    dist = squared.sum(axis=1)\n",
        "\n",
        "    \"\"\" Square root the sum of the squared distance \"\"\"\n",
        "    temp_df['distance'] = dist**0.5\n",
        "\n",
        "    \"\"\"Sort the euclidean distance in ascending order \"\"\"\n",
        "    new_df = temp_df.sort_values('distance')\n",
        "\n",
        "    \"\"\" Choosing 5 nearest-neighbours (K=5) \"\"\"\n",
        "    nearest_neighbor_prices = new_df['price'].iloc[0:5]\n",
        "\n",
        "    \"\"\" Get the mean value for the 5 data \"\"\"\n",
        "    predicted_price = nearest_neighbor_prices.mean()\n",
        "\n",
        "    \"\"\" Predicted Price for New Data \"\"\"\n",
        "    return predicted_price"
      ],
      "execution_count": null,
      "outputs": []
    },
    {
      "cell_type": "markdown",
      "metadata": {
        "id": "cYSBT6QLR_zM"
      },
      "source": [
        "\n",
        "\n",
        "---\n",
        "\n",
        "\n",
        "# Testing the Data\n",
        "\n",
        "\n",
        "---\n",
        "\n"
      ]
    },
    {
      "cell_type": "code",
      "metadata": {
        "id": "BcD2qKXLQ-et"
      },
      "source": [
        "\"\"\" Test the Data \"\"\"\n",
        "for i,row in test[features].iterrows():\n",
        "    predicted_price = predict_price(row,train)\n",
        "    test.loc[i,'predicted_price'] = predicted_price"
      ],
      "execution_count": null,
      "outputs": []
    },
    {
      "cell_type": "code",
      "metadata": {
        "colab": {
          "base_uri": "https://localhost:8080/"
        },
        "id": "Pnp0U59JQ_jA",
        "outputId": "69f3e7b2-1d49-4aa8-d7e3-c86035f4f615"
      },
      "source": [
        "\"\"\" Mean Absolute Error \"\"\"\n",
        "mae = np.absolute(test['price'] - test['predicted_price']).sum()/test.shape[0]\n",
        "print(mae)"
      ],
      "execution_count": null,
      "outputs": [
        {
          "output_type": "stream",
          "text": [
            "53.762828649138704\n"
          ],
          "name": "stdout"
        }
      ]
    },
    {
      "cell_type": "markdown",
      "metadata": {
        "id": "mykctLoQSN73"
      },
      "source": [
        "\n",
        "\n",
        "---\n",
        "\n",
        "\n",
        "# Predicting the Price Based On **Accomodation**, **Number of Bedrooms**, **Number of Bathrooms**, and **Number of Reviews**\n",
        "\n",
        "\n",
        "---\n",
        "\n"
      ]
    },
    {
      "cell_type": "code",
      "metadata": {
        "colab": {
          "base_uri": "https://localhost:8080/"
        },
        "id": "8rQbrldNYIKr",
        "outputId": "ca279d81-01f5-411d-c271-331824f3210a"
      },
      "source": [
        "\"\"\" Features = ['accommodates', 'bedrooms', 'bathrooms','number_of_reviews'] \"\"\"\n",
        "new_airbnb = pd.Series([2,1,1,0])\n",
        "new_airbnb.index = pd.Index(features)\n",
        "predicted_price = predict_price(new_airbnb,train)\n",
        "print(\"The predicted price for the new AirBnB is $%d per night.\"%(predicted_price))"
      ],
      "execution_count": null,
      "outputs": [
        {
          "output_type": "stream",
          "text": [
            "The predicted price for the new AirBnB is $143 per night.\n"
          ],
          "name": "stdout"
        }
      ]
    }
  ]
}
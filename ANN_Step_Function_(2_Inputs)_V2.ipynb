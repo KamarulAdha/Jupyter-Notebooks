{
  "nbformat": 4,
  "nbformat_minor": 0,
  "metadata": {
    "colab": {
      "name": "ANN - Step Function (2 Inputs) - V2.ipynb",
      "provenance": [],
      "collapsed_sections": [],
      "authorship_tag": "ABX9TyNtXsKwC4GGWJX9Dzpzal6a",
      "include_colab_link": true
    },
    "kernelspec": {
      "name": "python3",
      "display_name": "Python 3"
    },
    "language_info": {
      "name": "python"
    }
  },
  "cells": [
    {
      "cell_type": "markdown",
      "metadata": {
        "id": "view-in-github",
        "colab_type": "text"
      },
      "source": [
        "<a href=\"https://colab.research.google.com/github/KamarulAdha/Jupyter-Notebooks/blob/main/ANN_Step_Function_(2_Inputs)_V2.ipynb\" target=\"_parent\"><img src=\"https://colab.research.google.com/assets/colab-badge.svg\" alt=\"Open In Colab\"/></a>"
      ]
    },
    {
      "cell_type": "code",
      "metadata": {
        "id": "j381OMMpyujK"
      },
      "source": [
        "\"\"\"Import Modules\"\"\"\n",
        "import numpy as np"
      ],
      "execution_count": 1,
      "outputs": []
    },
    {
      "cell_type": "code",
      "metadata": {
        "id": "XxydQlJ0y3E0"
      },
      "source": [
        "\"\"\"Step Function Activation\"\"\"\n",
        "def step(x):\n",
        "  return np.where(x>=0, 1, 0)"
      ],
      "execution_count": 2,
      "outputs": []
    },
    {
      "cell_type": "code",
      "metadata": {
        "id": "L92dIRJWy9-v"
      },
      "source": [
        "\"\"\"Input Dataset (2 Input Neurons)\"\"\"\n",
        "inputs = np.array([[0,0], [0,1], [1,0], [1,1]])\n",
        "\n",
        "\"\"\"Expected Output (OR)\"\"\"\n",
        "# expected_output = np.array([[0], [1], [1], [1]])\n",
        "\n",
        "\"\"\"Expected Output (AND)\"\"\"\n",
        "expected_output = np.array([[0], [0], [0], [1]])"
      ],
      "execution_count": 3,
      "outputs": []
    },
    {
      "cell_type": "code",
      "metadata": {
        "id": "XXzITg-ty-70"
      },
      "source": [
        "\"\"\"Initialise the Parameters\"\"\"\n",
        "epochs = 0\n",
        "lr = 0.1\n",
        "threshold = 0.2\n",
        "inputLayerNeurons, outputLayerNeurons = 2,1"
      ],
      "execution_count": 4,
      "outputs": []
    },
    {
      "cell_type": "code",
      "metadata": {
        "id": "pQbYIvVszAkB"
      },
      "source": [
        "\"\"\"Set the Input Weights\"\"\"\n",
        "output_weights = np.array([[0.3], [-0.1]])\n",
        "# output_weights = np.random.uniform(size=(inputLayerNeurons,outputLayerNeurons))"
      ],
      "execution_count": 5,
      "outputs": []
    },
    {
      "cell_type": "code",
      "metadata": {
        "id": "ri2KGfw3zDQm"
      },
      "source": [
        "\"\"\"Training Algorithm\"\"\"\n",
        "errors = []\n",
        "while(True):\n",
        "  errors.clear()\n",
        "  for x in range(len(inputs)):\n",
        "    \"\"\"Multiply the row of the input matrix with the input weights\"\"\"\n",
        "    item = np.array(inputs[x,:])\n",
        "    product = np.dot(item, output_weights)\n",
        "\n",
        "\n",
        "    \"\"\"Subtract the result with the threshold\"\"\"\n",
        "    product = np.round((np.subtract(product, threshold)), 4)\n",
        "\n",
        "\n",
        "    \"\"\"Apply Step Activation Function\"\"\"\n",
        "    actual_output = step(product)\n",
        "\n",
        "\n",
        "    \"\"\"Weight Change\"\"\"\n",
        "    error = expected_output[x] - actual_output\n",
        "    errors.append(error.tolist())\n",
        "\n",
        "\n",
        "    delta_weight_1 = item[0] * lr * error \n",
        "    delta_weight_2 = item[1] * lr * error\n",
        "\n",
        "\n",
        "    \"\"\"Update Change\"\"\"\n",
        "    output_weights[0] = np.round(output_weights[0] + delta_weight_1, 4)\n",
        "    output_weights[1] = np.round(output_weights[1] + delta_weight_2, 4)\n",
        "\n",
        "  epochs += 1\n",
        "  if (all(error == [0] for error in errors)):\n",
        "    break"
      ],
      "execution_count": 6,
      "outputs": []
    },
    {
      "cell_type": "code",
      "metadata": {
        "id": "zctydxQpzMmw"
      },
      "source": [
        "\"\"\"Testing\"\"\"\n",
        "output_layer_activation = np.dot(inputs, output_weights)\n",
        "output_layer_activation -= threshold\n",
        "predicted_output = step(np.round(output_layer_activation, 4))"
      ],
      "execution_count": 7,
      "outputs": []
    },
    {
      "cell_type": "code",
      "metadata": {
        "colab": {
          "base_uri": "https://localhost:8080/"
        },
        "id": "HYVNJMe2zOCP",
        "outputId": "24219157-c867-4417-ec45-fa4a293b6460"
      },
      "source": [
        "\"\"\"Final Output\"\"\"\n",
        "print(f\"Epochs: {epochs}\")\n",
        "\n",
        "print(\"Errors: \", end=\"\")\n",
        "print(*errors)\n",
        "\n",
        "print(\"Final Output Weights: \", end=\"\")\n",
        "print(*output_weights)\n",
        "\n",
        "print(\"Input: \", end=\"\")\n",
        "print(*inputs)\n",
        "\n",
        "print(\"Expected Output : \", end=\"\")\n",
        "print(*expected_output)\n",
        "\n",
        "print(\"Predicted Output: \", end=\"\")\n",
        "print(*predicted_output)"
      ],
      "execution_count": 8,
      "outputs": [
        {
          "output_type": "stream",
          "text": [
            "Epochs: 5\n",
            "Errors: [0] [0] [0] [0]\n",
            "Final Output Weights: [0.1] [0.1]\n",
            "Input: [0 0] [0 1] [1 0] [1 1]\n",
            "Expected Output : [0] [0] [0] [1]\n",
            "Predicted Output: [0] [0] [0] [1]\n"
          ],
          "name": "stdout"
        }
      ]
    }
  ]
}
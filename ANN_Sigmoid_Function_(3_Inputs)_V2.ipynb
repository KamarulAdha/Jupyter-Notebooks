{
  "nbformat": 4,
  "nbformat_minor": 0,
  "metadata": {
    "colab": {
      "name": "ANN - (3 Inputs) - V2.ipynb",
      "provenance": [],
      "collapsed_sections": [],
      "authorship_tag": "ABX9TyNEo8X+B/9ohAHHJpM36wbc",
      "include_colab_link": true
    },
    "kernelspec": {
      "name": "python3",
      "display_name": "Python 3"
    },
    "language_info": {
      "name": "python"
    }
  },
  "cells": [
    {
      "cell_type": "markdown",
      "metadata": {
        "id": "view-in-github",
        "colab_type": "text"
      },
      "source": [
        "<a href=\"https://colab.research.google.com/github/KamarulAdha/Jupyter-Notebooks/blob/main/ANN_Sigmoid_Function_(3_Inputs)_V2.ipynb\" target=\"_parent\"><img src=\"https://colab.research.google.com/assets/colab-badge.svg\" alt=\"Open In Colab\"/></a>"
      ]
    },
    {
      "cell_type": "code",
      "metadata": {
        "id": "z7HDtyCOCXzt"
      },
      "source": [
        "\"\"\"Import Modules\"\"\"\n",
        "import numpy as np"
      ],
      "execution_count": 1,
      "outputs": []
    },
    {
      "cell_type": "code",
      "metadata": {
        "id": "IbEgXlypCaSp"
      },
      "source": [
        "\"\"\"Activation Functions\"\"\"\n",
        "def step(x):\n",
        "  return np.where(x>=0, 1, 0)\n",
        "\n",
        "def sigmoid(x):\n",
        "   return 1/(1 + np.exp(-x))"
      ],
      "execution_count": 2,
      "outputs": []
    },
    {
      "cell_type": "code",
      "metadata": {
        "id": "4EjGJ5PICgjJ"
      },
      "source": [
        "\"\"\"Input Dataset (3 Inputs)\"\"\"\n",
        "inputs = np.array([[0,0,0], [0,0,1], [0,1,0], [1,0,0], [1,1,0], [0,1,1], [1,0,1], [1,1,1]])\n",
        "\n",
        "\"\"\"Expected Output (OR)\"\"\"\n",
        "expected_output = np.array([[0], [1], [1], [1], [1], [1], [1], [1]])\n",
        "\n",
        "\"\"\"Expected Output (AND)\"\"\"\n",
        "# expected_output = np.array([[0], [0], [0], [0], [0], [0], [0], [1]])"
      ],
      "execution_count": null,
      "outputs": []
    },
    {
      "cell_type": "code",
      "metadata": {
        "id": "yqMMoxHDCirZ"
      },
      "source": [
        "\"\"\"Initialise the Parameters\"\"\"\n",
        "epochs = 0\n",
        "lr = 0.1\n",
        "output_threshold = 0.3\n",
        "output_bias = -1\n",
        "# inputLayerNeurons, outputLayerNeurons = 3,1"
      ],
      "execution_count": 4,
      "outputs": []
    },
    {
      "cell_type": "code",
      "metadata": {
        "id": "P5-sLC_xCjT_"
      },
      "source": [
        "\"\"\"Set the Input Weights\"\"\"\n",
        "output_weights = np.array([[0.3], [-0.1], [0.1]])\n",
        "# output_weights = np.random.uniform(size=(inputLayerNeurons,outputLayerNeurons))"
      ],
      "execution_count": 5,
      "outputs": []
    },
    {
      "cell_type": "code",
      "metadata": {
        "id": "fPZ4LXazCl4f"
      },
      "source": [
        "\"\"\"Training Algorithm\"\"\"\n",
        "errors = []\n",
        "while(True):\n",
        "  errors.clear()\n",
        "  for x in range(len(inputs)):\n",
        "    \"\"\"Multiply the row of the input matrix with the output weights\"\"\"\n",
        "    item = np.array(inputs[x,:])\n",
        "    product = np.dot(item, output_weights)\n",
        "\n",
        "\n",
        "    \"\"\"Add the (bias*threshold) to the sum of dot product\"\"\"\n",
        "    product = np.add(product, (output_bias*output_threshold))\n",
        "\n",
        "\n",
        "    \"\"\"Apply Sigmoid Activation Function\"\"\"\n",
        "    actual_output = sigmoid(product)\n",
        "    actual_output = np.round(actual_output)\n",
        "\n",
        "\n",
        "    \"\"\"Calculate Error\"\"\"\n",
        "    error = expected_output[x] - actual_output\n",
        "    errors.append(error.tolist())\n",
        "\n",
        "\n",
        "    \"\"\"Weight Change\"\"\"\n",
        "    delta_weight_1 = item[0] * lr * error \n",
        "    delta_weight_2 = item[1] * lr * error\n",
        "    delta_weight_3 = item[2] * lr * error \n",
        "\n",
        "\n",
        "    \"\"\"Update Change\"\"\"\n",
        "    output_weights[0] = np.round(output_weights[0] + delta_weight_1, 4)\n",
        "    output_weights[1] = np.round(output_weights[1] + delta_weight_2, 4)\n",
        "    output_weights[2] = np.round(output_weights[2] + delta_weight_3, 4)\n",
        "\n",
        "\n",
        "  epochs += 1\n",
        "  if (all(error == [0] for error in errors)):\n",
        "    break "
      ],
      "execution_count": 6,
      "outputs": []
    },
    {
      "cell_type": "code",
      "metadata": {
        "id": "ZwawvuL5CqBf"
      },
      "source": [
        "\"\"\"Testing\"\"\"\n",
        "output_layer_activation = np.dot(inputs, output_weights)\n",
        "output_layer_activation =  np.add(output_layer_activation, (output_bias*output_threshold))\n",
        "predicted_output = np.round(sigmoid(output_layer_activation))"
      ],
      "execution_count": 7,
      "outputs": []
    },
    {
      "cell_type": "code",
      "metadata": {
        "colab": {
          "base_uri": "https://localhost:8080/"
        },
        "id": "m8BLzwLGCrgU",
        "outputId": "2e23c0ce-eed5-4f96-b055-82d89c12a9a4"
      },
      "source": [
        "\"\"\"Final Output\"\"\"\n",
        "print(f\"Epochs: {epochs}\")\n",
        "\n",
        "print(\"Errors: \", end=\"\")\n",
        "print(*errors)\n",
        "\n",
        "print(\"Final Output Weights: \", end=\"\")\n",
        "print(*output_weights)\n",
        "\n",
        "print(\"Input: \", end=\"\")\n",
        "print(*inputs)\n",
        "\n",
        "print(\"Expected Output : \", end=\"\")\n",
        "print(*expected_output)\n",
        "\n",
        "print(\"Predicted Output: \", end=\"\")\n",
        "print(*predicted_output)"
      ],
      "execution_count": 8,
      "outputs": [
        {
          "output_type": "stream",
          "text": [
            "Epochs: 5\n",
            "Errors: [0.0] [0.0] [0.0] [0.0] [0.0] [0.0] [0.0] [0.0]\n",
            "Final Output Weights: [0.4] [0.4] [0.4]\n",
            "Input: [0 0 0] [0 0 1] [0 1 0] [1 0 0] [1 1 0] [0 1 1] [1 0 1] [1 1 1]\n",
            "Expected Output : [0] [1] [1] [1] [1] [1] [1] [1]\n",
            "Predicted Output: [0.] [1.] [1.] [1.] [1.] [1.] [1.] [1.]\n"
          ],
          "name": "stdout"
        }
      ]
    }
  ]
}